{
 "cells": [
  {
   "cell_type": "markdown",
   "id": "d6246268-9d5f-4009-93f8-7782d6c41d73",
   "metadata": {},
   "source": [
    "My Jupyter Notebook on IBM Watson Studio"
   ]
  },
  {
   "cell_type": "markdown",
   "id": "82b01ee9-53b3-4e29-95b1-343a8eeb00f4",
   "metadata": {},
   "source": [
    "**Kylan Kikuyama**"
   ]
  },
  {
   "cell_type": "markdown",
   "id": "955d7315-e6a8-4d4f-b728-ba563ad468ce",
   "metadata": {},
   "source": [
    "*Data science, to me, is a much more in depth, hands on version of analysis. The storage, manipulation and analysis of data in a more complex all encompassing way really speaks to me. I like the challenge and investment. It also does not hurt that I have a background in marketing analysis. A financial benefit with a new job is also welcome if it happens.*"
   ]
  },
  {
   "cell_type": "markdown",
   "id": "d19f3d82-4004-4475-9ce8-b7712cc7d7fb",
   "metadata": {
    "tags": []
   },
   "source": [
    "### The code below takes the numbers 25, 42, 96, 35, 74, and 88 and finds the average by adding them up and dividing by 6."
   ]
  },
  {
   "cell_type": "code",
   "execution_count": 2,
   "id": "a7fe438d-9b5e-40a7-89e8-de1416ea3225",
   "metadata": {},
   "outputs": [
    {
     "data": {
      "text/plain": [
       "60.0"
      ]
     },
     "execution_count": 2,
     "metadata": {},
     "output_type": "execute_result"
    }
   ],
   "source": [
    "(25+42+96+35+74+88)/6"
   ]
  },
  {
   "cell_type": "markdown",
   "id": "e212d732-f515-47f3-aee6-deaf8751af7c",
   "metadata": {},
   "source": [
    "1. Numbered List\n",
    "1. Numbered List\n",
    "\n",
    "- Bullet Point\n",
    "- Bullet Point\n",
    "    \n",
    "| Column | Column |\n",
    "| ----- | ----- |\n",
    "| cell1 | cell2 |"
   ]
  }
 ],
 "metadata": {
  "kernelspec": {
   "display_name": "Python",
   "language": "python",
   "name": "conda-env-python-py"
  },
  "language_info": {
   "codemirror_mode": {
    "name": "ipython",
    "version": 3
   },
   "file_extension": ".py",
   "mimetype": "text/x-python",
   "name": "python",
   "nbconvert_exporter": "python",
   "pygments_lexer": "ipython3",
   "version": "3.7.12"
  }
 },
 "nbformat": 4,
 "nbformat_minor": 5
}
